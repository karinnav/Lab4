{
 "cells": [
  {
   "cell_type": "markdown",
   "metadata": {},
   "source": [
    "# Lab 4"
   ]
  },
  {
   "cell_type": "markdown",
   "metadata": {},
   "source": [
    "I am going to design a database for metabolism by first creating three relational tables for genes, enzymes, and pathways.  I will also create three associative tables to link the information across tables.\n",
    "\n",
    "Below are the three relational tables with appropriate fields for each row.\n",
    "\n",
    "Q.Some enzymes belong to the same pathway.  Some might belong to multiple pathways. Is it one to many or many to many?  \n",
    "A. According to my findings it is many-to-many.\n",
    "Q.There is an order to enzymes within the same pathway.  How can that order be represented in table?  \n",
    "A. We can add a separate column that indicates the enzyme order number within the same pathway.  Columns: pathway id, enzyme id, enzyme order number.\n",
    "Q.Genes in the gene table encode enzymes.  How can this be represented? Is this a one-to-one, one-to-many, or many-to-many and in which direction? \n",
    "A. It is one-to-many in the direction of enzymes to genes since multiple genes encode the same enzyme.  "
   ]
  },
  {
   "cell_type": "code",
   "execution_count": 146,
   "metadata": {},
   "outputs": [
    {
     "ename": "OperationalError",
     "evalue": "table genes already exists",
     "output_type": "error",
     "traceback": [
      "\u001b[1;31m\u001b[0m",
      "\u001b[1;31mOperationalError\u001b[0mTraceback (most recent call last)",
      "\u001b[1;32m<ipython-input-146-67acaa26e7fc>\u001b[0m in \u001b[0;36m<module>\u001b[1;34m()\u001b[0m\n\u001b[0;32m     15\u001b[0m                                 \u001b[0mdescription\u001b[0m \u001b[0mTEXT\u001b[0m\u001b[1;33m,\u001b[0m\u001b[1;33m\u001b[0m\u001b[0m\n\u001b[0;32m     16\u001b[0m                                 \u001b[0morganism\u001b[0m \u001b[0mTEXT\u001b[0m\u001b[1;33m,\u001b[0m\u001b[1;33m\u001b[0m\u001b[0m\n\u001b[1;32m---> 17\u001b[1;33m                                 nucleotide_sequence VARCHAR(1));\"\"\")\n\u001b[0m\u001b[0;32m     18\u001b[0m \u001b[1;33m\u001b[0m\u001b[0m\n\u001b[0;32m     19\u001b[0m c.execute(\"\"\"CREATE TABLE pathways (id INT, \n",
      "\u001b[1;31mOperationalError\u001b[0m: table genes already exists"
     ]
    }
   ],
   "source": [
    "import sqlite3\n",
    "conn = sqlite3.connect(\"New.db\")\n",
    "c = conn.cursor()\n",
    "\n",
    "# c.execute(\"\"\"DROP TABLE genelist\"\"\")\n",
    "# c.execute(\"\"\"DROP TABLE pathwaysDB\"\"\")\n",
    "# c.execute(\"\"\"DROP TABLE enzymeDB\"\"\")\n",
    "# c.execute(\"\"\"DROP TABLE pathways_to_enzymes\"\"\")\n",
    "# c.execute(\"\"\"DROP TABLE pathway_enzyme_order\"\"\")\n",
    "# c.execute(\"\"\"DROP TABLE genes_to_enzymes\"\"\")\n",
    "\n",
    "##################### Relational Tables #####################\n",
    "c.execute(\"\"\"CREATE TABLE genes (id INT, \n",
    "                                name TEXT,\n",
    "                                description TEXT,\n",
    "                                organism TEXT,\n",
    "                                nucleotide_sequence VARCHAR(1));\"\"\")\n",
    "\n",
    "c.execute(\"\"\"CREATE TABLE pathways (id INT, \n",
    "                                name TEXT,\n",
    "                                description TEXT);\"\"\")\n",
    "\n",
    "c.execute(\"\"\"CREATE TABLE enzyme (id INT, \n",
    "                                name TEXT,\n",
    "                                EC number TEXT);\"\"\")\n",
    "\n",
    "##################### Associative Tables #####################\n",
    "\n",
    "c.execute(\"\"\"CREATE TABLE pathways_to_enzymes (pathway_id INT, \n",
    "                                enzyme_id INT);\"\"\")\n",
    "\n",
    "c.execute(\"\"\"CREATE TABLE pathway_enzyme_order (pathway_id INT, \n",
    "                                order_no INT,\n",
    "                                enzyme_id INT);\"\"\")\n",
    "\n",
    "c.execute(\"\"\"CREATE TABLE genes_to_enzymes (gene_id INT, \n",
    "                                enzyme_id INT);\"\"\")\n",
    "conn.commit()"
   ]
  },
  {
   "attachments": {},
   "cell_type": "markdown",
   "metadata": {},
   "source": [
    "Note: I ran into some trouble using SQL because at first my database kept locking and then I was not able to add rows.  Due to limited time, I show what I would have done make my databases.\n",
    "\n",
    "I used the KEGG site to choose four enzymes from each of the three pathways specified in Lab 4.  They were noted in the diagrams by EC number.  I then input these numbers into the NCBI database to get official names.  The number in parantheses shows the order of enzymes within the same pathway as noted in the KEGG diagrams.\n",
    "\n",
    "Three pathways:\n",
    "\n",
    "Glycolysis\n",
    "\t-1.2.1.9(3)\n",
    "\tglyceraldehyde-3-phosphate dehydrogenase\n",
    "\t-5.3.1.9(2)\n",
    "\tglucose-6-phosphate isomerase\n",
    "\t-5.4.2.2 (1)\n",
    "\tphosphoglucomutase\n",
    "\t-4.2.1.11(4)\n",
    "\tphosphopyruvate hydratase\n",
    "    \n",
    "TCA cycle\n",
    "\t- 1.1.1.37 (4)\n",
    "\tmalate dehydrogenase\n",
    "\t- 1.1.1.42(1)\n",
    "\tisocitrate dehydrogenase\n",
    "\t- 2.3.1.61 (2)\n",
    "\tdihydrolipoyllysine-residue succinyltransferase\n",
    "\t- 4.2.1.2 (3)\n",
    "\tFumarate hydratase\n",
    "\n",
    "Pentose Phosphate\n",
    "\t-1.2.1.9 (4)\n",
    "\tglyceraldehyde-3-phosphate dehydrogenase\n",
    "\t-5.3.1.9 (1)\n",
    "\tglucose-6-phosphate isomerase\n",
    "\t-2.2.1.1 (2)\n",
    "\ttransketolase\n",
    "\t-4.2.1.12 (3)\n",
    "    phosphogluconate dehydratase\n",
    "\n",
    "I purposefully chose similar enzymes in different pathways to show the many-to-many relationship between enzymes and pathways.\n",
    "\n",
    "I used Entrez to search for genbank files of each chosen enzyme in each species (Homo sapiens, E.coli, and Drosophila).\n",
    "\n",
    "I then compiled all of these files into one large genbank file using SeqIO.write."
   ]
  },
  {
   "cell_type": "code",
   "execution_count": 134,
   "metadata": {},
   "outputs": [
    {
     "name": "stdout",
     "output_type": "stream",
     "text": [
      "Stored 'enzymes' (list)\n",
      "Stored 'EC_numbers' (dict)\n",
      "Stored 'recs' (list)\n"
     ]
    },
    {
     "data": {
      "text/plain": [
       "30"
      ]
     },
     "execution_count": 134,
     "metadata": {},
     "output_type": "execute_result"
    }
   ],
   "source": [
    "from Bio import Entrez\n",
    "from Bio import SeqIO\n",
    "\n",
    "Entrez.email = 'karinna_vivanco@berkley.edu'\n",
    "\n",
    "##################################################################################################################\n",
    "#Making lists of search terms in each category to input to Entrez\n",
    "species = ['homo sapiens', 'E.coli', 'Drosophila']\n",
    "enzymes = ['glyceraldehyde-3-phosphate dehydrogenase',\n",
    "          'glucose-6-phosphate isomerase',\n",
    "          'phosphoglucomutase',\n",
    "          'phosphopyruvate hydratase',\n",
    "          'malate dehydrogenase',\n",
    "          'isocitrate dehydrogenase', \n",
    "          'dihydrolipoyllysine-residue succinyltransferase',\n",
    "          'fumarate hydratase',\n",
    "          'transketolase',\n",
    "          'phosphogluconate dehydratase']\n",
    "%store enzymes\n",
    "EC_numbers = {'glyceraldehyde-3-phosphate dehydrogenase':\n",
    "              '1.2.1.9',\n",
    "          'glucose-6-phosphate isomerase':\n",
    "              '5.3.1.9',\n",
    "          'phosphoglucomutase':\n",
    "              '5.4.2.2',\n",
    "          'phosphopyruvate hydratase':\n",
    "              '4.2.1.11',\n",
    "          'malate dehydrogenase':\n",
    "              '1.1.1.37',\n",
    "          'isocitrate dehydrogenase':\n",
    "              '1.1.1.42', \n",
    "          'dihydrolipoyllysine-residue succinyltransferase':\n",
    "              '2.3.1.61',\n",
    "          'fumarate hydratase':\n",
    "              '4.2.1.2',\n",
    "          'transketolase':\n",
    "              '2.2.1.1',\n",
    "          'phosphogluconate dehydratase':\n",
    "             '4.2.1.12'}\n",
    "%store EC_numbers\n",
    "#creating a list of sequences from genbank files for compiling into one genbank file\n",
    "recs= []\n",
    "\n",
    "#Iterates through all search term combinations(organism and enzyme)\n",
    "for S in species:\n",
    "    for enzyme in enzymes:\n",
    "        #Searches Entrez and returns top 5 results\n",
    "        handle = Entrez.esearch(db = 'nucleotide', \n",
    "                        retmax = 1,\n",
    "                       term= (S +\" [ORGN] \"+ enzyme),\n",
    "                       sort = 'relevance', \n",
    "                        idtype= 'acc')\n",
    "        searchInfo = Entrez.read(handle) #dictionary containing info from the search, including accession numbers\n",
    "        handle.close()\n",
    "        #Fetches the GenBank file from the top match in the search\n",
    "        handle2 = Entrez.efetch(db = 'nucleotide', id = searchInfo['IdList'][0], rettype='gb', retmode = 'text')\n",
    "        #Uses a sequence iterator to add to list of SeqRecord Objects\n",
    "        for rec in SeqIO.parse(handle2, \"gb\"):\n",
    "            recs.append(rec)   \n",
    "        handle2.close()\n",
    "\n",
    "%store recs\n",
    "\n",
    "#Writes a gb file containing all entries\n",
    "SeqIO.write(recs,open(\"MasterGenBank.gb\",\"w\"), \"gb\")\n"
   ]
  },
  {
   "cell_type": "markdown",
   "metadata": {},
   "source": [
    "After going through the Master GenBank file, I realized that some of the entries showed whole genomes.  I went through each of these manually and changed the sequences to the correct gene subsequence. I reqrote the genbank file with these updates."
   ]
  },
  {
   "cell_type": "code",
   "execution_count": 136,
   "metadata": {},
   "outputs": [
    {
     "data": {
      "text/plain": [
       "30"
      ]
     },
     "execution_count": 136,
     "metadata": {},
     "output_type": "execute_result"
    }
   ],
   "source": [
    "from Bio import SeqIO\n",
    "import sqlite3\n",
    "    \n",
    "recs[2].seq = recs[2].seq[1655936:1657564]\n",
    "recs[9].seq = recs[9].seq[994321:996165]\n",
    "recs[11].seq = recs[11].seq[42301:43950]\n",
    "recs[13].seq = recs[13].seq[90074:91372]\n",
    "recs[16].seq = recs[16].seq[2253268:2254422]\n",
    "recs[18].seq = recs[18].seq[391674:393677]\n",
    "recs[19].seq = recs[19].seq[5049987:5051393]\n",
    "\n",
    "\n",
    "SeqIO.write(recs,open(\"MasterGenBankUPDATE.gb\",\"w\"), \"gb\")\n",
    "\n"
   ]
  },
  {
   "cell_type": "markdown",
   "metadata": {},
   "source": [
    "I ran into trouble below inserting information into my tables.  It worked at times but then when I re-ran the cell later on, it did not work anymore.  I ran out of time to troubleshoot.  Below I show how I would add data to the corresponding tables.  I would add the relationships to the associative tables manually by following my list above, with pathways, enzymes, and enzyme order.  I could also add the gene to enzyme relatiionships because I know the order by which the master genbank file was compiled.  "
   ]
  },
  {
   "cell_type": "code",
   "execution_count": 145,
   "metadata": {},
   "outputs": [
    {
     "ename": "OperationalError",
     "evalue": "near \"dehydrogenase\": syntax error",
     "output_type": "error",
     "traceback": [
      "\u001b[1;31m\u001b[0m",
      "\u001b[1;31mOperationalError\u001b[0mTraceback (most recent call last)",
      "\u001b[1;32m<ipython-input-145-7b5d622086c1>\u001b[0m in \u001b[0;36m<module>\u001b[1;34m()\u001b[0m\n\u001b[0;32m     26\u001b[0m     \u001b[0mterm\u001b[0m \u001b[1;33m=\u001b[0m \u001b[0mstr\u001b[0m\u001b[1;33m(\u001b[0m\u001b[0midNum\u001b[0m\u001b[1;33m)\u001b[0m \u001b[1;33m+\u001b[0m \u001b[1;34m\",'\"\u001b[0m\u001b[1;33m+\u001b[0m\u001b[0mgene\u001b[0m\u001b[1;33m[\u001b[0m\u001b[1;36m0\u001b[0m\u001b[1;33m]\u001b[0m \u001b[1;33m+\u001b[0m \u001b[1;34m\"','\"\u001b[0m \u001b[1;33m+\u001b[0m \u001b[0mgene\u001b[0m\u001b[1;33m[\u001b[0m\u001b[1;36m1\u001b[0m\u001b[1;33m]\u001b[0m\u001b[1;33m+\u001b[0m\u001b[1;34m\"','\"\u001b[0m\u001b[1;33m+\u001b[0m\u001b[0mgene\u001b[0m\u001b[1;33m[\u001b[0m\u001b[1;36m2\u001b[0m\u001b[1;33m]\u001b[0m\u001b[1;33m+\u001b[0m\u001b[1;34m\"','\"\u001b[0m\u001b[1;33m+\u001b[0m\u001b[0mgene\u001b[0m\u001b[1;33m[\u001b[0m\u001b[1;36m3\u001b[0m\u001b[1;33m]\u001b[0m\u001b[1;33m+\u001b[0m\u001b[1;34m\"'\"\u001b[0m\u001b[1;33m\u001b[0m\u001b[0m\n\u001b[0;32m     27\u001b[0m     \u001b[0mterm\u001b[0m \u001b[1;33m=\u001b[0m \u001b[0mstr\u001b[0m\u001b[1;33m(\u001b[0m\u001b[0midNum\u001b[0m\u001b[1;33m)\u001b[0m \u001b[1;33m+\u001b[0m \u001b[1;34m\",\"\u001b[0m\u001b[1;33m+\u001b[0m\u001b[0mgene\u001b[0m\u001b[1;33m[\u001b[0m\u001b[1;36m0\u001b[0m\u001b[1;33m]\u001b[0m \u001b[1;33m+\u001b[0m \u001b[1;34m\",\"\u001b[0m \u001b[1;33m+\u001b[0m \u001b[0mgene\u001b[0m\u001b[1;33m[\u001b[0m\u001b[1;36m1\u001b[0m\u001b[1;33m]\u001b[0m\u001b[1;33m+\u001b[0m\u001b[1;34m\",\"\u001b[0m\u001b[1;33m+\u001b[0m\u001b[0mgene\u001b[0m\u001b[1;33m[\u001b[0m\u001b[1;36m2\u001b[0m\u001b[1;33m]\u001b[0m\u001b[1;33m+\u001b[0m\u001b[1;34m\",\"\u001b[0m\u001b[1;33m+\u001b[0m\u001b[0mgene\u001b[0m\u001b[1;33m[\u001b[0m\u001b[1;36m3\u001b[0m\u001b[1;33m]\u001b[0m\u001b[1;33m\u001b[0m\u001b[0m\n\u001b[1;32m---> 28\u001b[1;33m     \u001b[0mc\u001b[0m\u001b[1;33m.\u001b[0m\u001b[0mexecute\u001b[0m\u001b[1;33m(\u001b[0m\u001b[1;34m\"\"\"INSERT INTO genes (id, name, description, organism, nucleotide_sequence) VALUES(\"\"\"\u001b[0m\u001b[1;33m+\u001b[0m \u001b[0mterm\u001b[0m \u001b[1;33m+\u001b[0m\u001b[1;34m\");\"\u001b[0m\u001b[1;33m)\u001b[0m\u001b[1;33m\u001b[0m\u001b[0m\n\u001b[0m\u001b[0;32m     29\u001b[0m     \u001b[0midNum\u001b[0m \u001b[1;33m+=\u001b[0m \u001b[1;36m1\u001b[0m\u001b[1;33m\u001b[0m\u001b[0m\n\u001b[0;32m     30\u001b[0m \u001b[0mconn\u001b[0m\u001b[1;33m.\u001b[0m\u001b[0mcommit\u001b[0m\u001b[1;33m(\u001b[0m\u001b[1;33m)\u001b[0m\u001b[1;33m\u001b[0m\u001b[0m\n",
      "\u001b[1;31mOperationalError\u001b[0m: near \"dehydrogenase\": syntax error"
     ]
    }
   ],
   "source": [
    "from Bio import SeqIO\n",
    "from Bio import GenBank\n",
    "import sqlite3\n",
    "\n",
    "conn = sqlite3.connect(\"New.db\")\n",
    "c = conn.cursor()\n",
    "\n",
    "geneNames = enzymes*3\n",
    "\n",
    "geneValues = []\n",
    "with open(\"MasterGenBankUPDATE.gb\") as handle:\n",
    "    count = 0\n",
    "    for record in GenBank.parse(handle):\n",
    "        value1 = (geneNames[count],)\n",
    "        value2 = (record.definition,)\n",
    "        value3 = (record.organism,)\n",
    "        value4 = (record.sequence,)\n",
    "        geneValues.append(value1+value2+value3+value4)\n",
    "        count = count + 1    \n",
    "\n",
    "for gene in geneValues:\n",
    "    idNum = 1\n",
    "    term = str(idNum) + \",\"+gene[0] + \",\" + gene[1]+\",\"+gene[2]+\",\"+gene[3]\n",
    "    c.execute(\"\"\"INSERT INTO genes (id, name, description, organism, nucleotide_sequence) VALUES(\"\"\"+ term +\");\")\n",
    "    idNum += 1\n",
    "conn.commit()\n",
    "print(c.fetchall())\n",
    "\n",
    "\n",
    "for enzyme in enzymes:\n",
    "    idNum=1\n",
    "    term = str(idNum) + \",\"+enzyme+ \",\"+ EC_number[enzyme] \n",
    "    c.execute(\"\"\"INSERT INTO enzymes (id, name, EC number) VALUES(\"\"\"+ term +\");\")\n",
    "    idNum+=1\n",
    "    \n",
    "\n",
    "pathways = ['Glycolysis', 'TCA cycle', 'Pentose Phosphate']\n",
    "PWDescription = {'Glycolysis':'Glycolysis is the process of converting glucose into pyruvate and generating small amounts of ATP (energy) and NADH (reducing power).', \n",
    "                 'TCA cycle':'The citrate cycle (TCA cycle, Krebs cycle) is an important aerobic pathway for the final steps of the oxidation of carbohydrates and fatty acids.', \n",
    "                 'Pentose Phosphate': 'The pentose phosphate pathway is a process of glucose turnover that produces NADPH as reducing equivalents and pentoses as essential parts of nucleotides.'}\n",
    "    \n",
    "for pathway in pathways:\n",
    "    idNum=1\n",
    "    term = str(idNum) + \",\"+pathway+ \",\"+ PWDescription[pathway] \n",
    "    c.execute(\"\"\"INSERT INTO pathways (id, name, description) VALUES(\"\"\"+ term +\");\")\n",
    "    idNum+=1\n",
    "\n",
    "\n",
    "    "
   ]
  },
  {
   "cell_type": "markdown",
   "metadata": {},
   "source": [
    "I did not have time to move this lab any further, mostly due to syntax errors with SQL and database locking.  "
   ]
  },
  {
   "cell_type": "code",
   "execution_count": 115,
   "metadata": {},
   "outputs": [
    {
     "data": {
      "text/plain": [
       "'1'"
      ]
     },
     "execution_count": 115,
     "metadata": {},
     "output_type": "execute_result"
    }
   ],
   "source": []
  },
  {
   "cell_type": "code",
   "execution_count": null,
   "metadata": {},
   "outputs": [],
   "source": []
  }
 ],
 "metadata": {
  "kernelspec": {
   "display_name": "Python 2",
   "language": "python",
   "name": "python2"
  },
  "language_info": {
   "codemirror_mode": {
    "name": "ipython",
    "version": 2
   },
   "file_extension": ".py",
   "mimetype": "text/x-python",
   "name": "python",
   "nbconvert_exporter": "python",
   "pygments_lexer": "ipython2",
   "version": "2.7.15"
  }
 },
 "nbformat": 4,
 "nbformat_minor": 2
}
