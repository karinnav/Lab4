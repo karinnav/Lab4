{
 "cells": [
  {
   "cell_type": "markdown",
   "metadata": {},
   "source": [
    "# Lab 4"
   ]
  },
  {
   "cell_type": "markdown",
   "metadata": {},
   "source": [
    "I am going to design a database for metabolism by first creating three relational tables for genes, enzymes, and pathways.  I will also create three associative tables to link the information across tables.\n",
    "\n",
    "Below are the three relational tables with appropriate fields for each row."
   ]
  },
  {
   "cell_type": "code",
   "execution_count": 18,
   "metadata": {},
   "outputs": [
    {
     "ename": "OperationalError",
     "evalue": "table pathways already exists",
     "output_type": "error",
     "traceback": [
      "\u001b[1;31m\u001b[0m",
      "\u001b[1;31mOperationalError\u001b[0mTraceback (most recent call last)",
      "\u001b[1;32m<ipython-input-18-88ebcad43273>\u001b[0m in \u001b[0;36m<module>\u001b[1;34m()\u001b[0m\n\u001b[0;32m     16\u001b[0m c.execute(\"\"\"CREATE TABLE pathways (id INT, \n\u001b[0;32m     17\u001b[0m                                 \u001b[0mname\u001b[0m \u001b[0mTEXT\u001b[0m\u001b[1;33m,\u001b[0m\u001b[1;33m\u001b[0m\u001b[0m\n\u001b[1;32m---> 18\u001b[1;33m                                 description TEXT);\"\"\")\n\u001b[0m\u001b[0;32m     19\u001b[0m \u001b[1;33m\u001b[0m\u001b[0m\n\u001b[0;32m     20\u001b[0m c.execute(\"\"\"CREATE TABLE enzyme (id INT, \n",
      "\u001b[1;31mOperationalError\u001b[0m: table pathways already exists"
     ]
    }
   ],
   "source": [
    "import sqlite3\n",
    "conn = sqlite3.connect(\"my.db\")\n",
    "c = conn.cursor()\n",
    "\n",
    "#c.execute(\"\"\"DROP TABLE genes\"\"\")\n",
    "\n",
    "\n",
    "##################### Relational Tables #####################\n",
    "c.execute(\"\"\"CREATE TABLE genes (id INT, \n",
    "                                name TEXT,\n",
    "                                description TEXT,\n",
    "                                organism TEXT,\n",
    "                                nucleotide_sequence VARCHAR(1), \n",
    "                                translate_strand VARCHAR(1));\"\"\")\n",
    "\n",
    "c.execute(\"\"\"CREATE TABLE pathways (id INT, \n",
    "                                name TEXT,\n",
    "                                description TEXT);\"\"\")\n",
    "\n",
    "c.execute(\"\"\"CREATE TABLE enzyme (id INT, \n",
    "                                name TEXT,\n",
    "                                function TEXT,\n",
    "                                EC number TEXT);\"\"\")\n",
    "\n",
    "##################### Associative Tables #####################\n",
    "# Some enzymes belong to the same pathway.  Some might belong to multiple pathways\n",
    "# Is it one to many or many to many\n",
    "# There is an order to enzymes within the same pathway.  How can that\n",
    "# order be represented in table\n",
    "# Genes in the gene table encode enzymes.  How can this be represented?\n",
    "# Is this a one-to-one, one-to-many, or many-to-many and in which direction?\n",
    "c.execute(\"\"\"CREATE TABLE pathways_to_enzymes (pathway_id INT, \n",
    "                                enzyme_id INT);\"\"\")\n",
    "\n",
    "c.execute(\"\"\"CREATE TABLE pathway_enzyme_order (pathway_id INT, \n",
    "                                order_no INT,\n",
    "                                enzyme_id INT);\"\"\")\n",
    "\n",
    "c.execute(\"\"\"CREATE TABLE genes_to_enzymes (gene_id INT, \n",
    "                                enzyme_id INT);\"\"\")\n"
   ]
  },
  {
   "cell_type": "code",
   "execution_count": null,
   "metadata": {},
   "outputs": [],
   "source": []
  },
  {
   "cell_type": "code",
   "execution_count": null,
   "metadata": {
    "scrolled": true
   },
   "outputs": [],
   "source": []
  },
  {
   "cell_type": "code",
   "execution_count": 7,
   "metadata": {},
   "outputs": [
    {
     "name": "stdout",
     "output_type": "stream",
     "text": [
      "1\n",
      "2\n",
      "2\n",
      "3\n",
      "4\n",
      "5\n",
      "6\n",
      "7\n",
      "8\n",
      "8\n",
      "9\n",
      "9\n",
      "10\n",
      "10\n",
      "11\n",
      "12\n",
      "12\n",
      "13\n",
      "14\n",
      "14\n",
      "15\n",
      "16\n",
      "17\n",
      "17\n",
      "18\n",
      "19\n",
      "20\n",
      "21\n",
      "22\n",
      "22\n"
     ]
    },
    {
     "data": {
      "text/plain": [
       "22"
      ]
     },
     "execution_count": 7,
     "metadata": {},
     "output_type": "execute_result"
    }
   ],
   "source": [
    "from Bio import Entrez\n",
    "from Bio import SeqIO\n",
    "\n",
    "Entrez.email = 'karinna_vivanco@berkley.edu'\n",
    "\n",
    "##################################################################################################################\n",
    "species = ['homo sapiens', 'E.coli', 'Drosophila']\n",
    "enzymes = ['glyceraldehyde-3-phosphate dehydrogenase',\n",
    "          'glucose-6-phosphate isomerase',\n",
    "          'phosphoglucomutase',\n",
    "          'phosphopyruvate hydratase',\n",
    "          'malate dehydrogenase',\n",
    "          'isocitrate dehydrogenase', \n",
    "          'dihydrolipoyllysine-residue succinyltransferase',\n",
    "          'fumarate hydratase',\n",
    "          'transketolase',\n",
    "          'phosphogluconate dehydratase']\n",
    "\n",
    "EC_numbers = {'glyceraldehyde-3-phosphate dehydrogenase':\n",
    "              '1.2.1.9',\n",
    "          'glucose-6-phosphate isomerase':\n",
    "              '5.3.1.9',\n",
    "          'phosphoglucomutase':\n",
    "              '5.4.2.2',\n",
    "          'phosphopyruvate hydratase':\n",
    "              '4.2.1.11',\n",
    "          'malate dehydrogenase':\n",
    "              '1.1.1.37',\n",
    "          'isocitrate dehydrogenase':\n",
    "              '1.1.1.42', \n",
    "          'dihydrolipoyllysine-residue succinyltransferase':\n",
    "              '2.3.1.61',\n",
    "          'fumarate hydratase':\n",
    "              '4.2.1.2',\n",
    "          'transketolase':\n",
    "              '2.2.1.1',\n",
    "          'phosphogluconate dehydratase':\n",
    "             '4.2.1.12'}\n",
    "\n",
    "#creating a list of sequences from genbank files for compiling into one genbankd file\n",
    "recs= []\n",
    "\n",
    "#iterates through all search terms (organism and enzyme)\n",
    "for S in species:\n",
    "    for enzyme in enzymes:\n",
    "        #Searches Entrez and returns top 5 results\n",
    "        handle = Entrez.esearch(db = 'nucleotide', \n",
    "                        retmax = 5,\n",
    "                       term= (S +\" [ORGN] \"+ enzyme),\n",
    "                       sort = 'relevance', \n",
    "                        idtype= 'acc')\n",
    "        searchInfo = Entrez.read(handle) #dictionary containing info from the search, including accession numbers\n",
    "        handle.close()\n",
    "        #iterates through the search result dict for the top match that includes only the specific enzyme\n",
    "        for result in searchInfo['IdList']:\n",
    "            handle2 = Entrez.efetch(db = 'nucleotide', id = result, rettype='gb', retmode = 'text')\n",
    "            for rec in SeqIO.parse(handle2, \"gb\"):\n",
    "                if (len(rec.seq)<= 5000):\n",
    "                    recs.append(rec)\n",
    "                    break\n",
    "            break\n",
    "        print(len(recs))    \n",
    "        handle2.close()\n",
    "        \n",
    "#writes a gb file with temporary name X\n",
    "SeqIO.write(recs,open(\"X.gb\",\"w\"), \"gb\")\n",
    "\n",
    "\n",
    "        \n",
    "# print(record['IdList'][0])  ###CORRECT WAY TO CALL the first item in each search without needing accession code\n",
    "# handle = Entrez.efetch(db = 'nucleotide', id = record['IdList'][0], rettype='gb', retmode = 'text')\n"
   ]
  },
  {
   "cell_type": "code",
   "execution_count": null,
   "metadata": {},
   "outputs": [],
   "source": []
  },
  {
   "cell_type": "code",
   "execution_count": null,
   "metadata": {},
   "outputs": [],
   "source": []
  },
  {
   "cell_type": "code",
   "execution_count": null,
   "metadata": {},
   "outputs": [],
   "source": []
  }
 ],
 "metadata": {
  "kernelspec": {
   "display_name": "Python 2",
   "language": "python",
   "name": "python2"
  },
  "language_info": {
   "codemirror_mode": {
    "name": "ipython",
    "version": 2
   },
   "file_extension": ".py",
   "mimetype": "text/x-python",
   "name": "python",
   "nbconvert_exporter": "python",
   "pygments_lexer": "ipython2",
   "version": "2.7.15"
  }
 },
 "nbformat": 4,
 "nbformat_minor": 2
}
